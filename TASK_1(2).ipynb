{
  "nbformat": 4,
  "nbformat_minor": 0,
  "metadata": {
    "colab": {
      "provenance": [],
      "authorship_tag": "ABX9TyPbFlYDUQKuYXK2gCL1xlMR",
      "include_colab_link": true
    },
    "kernelspec": {
      "name": "python3",
      "display_name": "Python 3"
    },
    "language_info": {
      "name": "python"
    }
  },
  "cells": [
    {
      "cell_type": "markdown",
      "metadata": {
        "id": "view-in-github",
        "colab_type": "text"
      },
      "source": [
        "<a href=\"https://colab.research.google.com/github/ShrutiThakar/BIG-DATA-ANALYSIS/blob/main/TASK_1(2).ipynb\" target=\"_parent\"><img src=\"https://colab.research.google.com/assets/colab-badge.svg\" alt=\"Open In Colab\"/></a>"
      ]
    },
    {
      "cell_type": "code",
      "execution_count": null,
      "metadata": {
        "colab": {
          "base_uri": "https://localhost:8080/",
          "height": 746
        },
        "id": "q1cM1KNwai2K",
        "outputId": "a556388b-4d53-4821-c253-96dfd0f3df79"
      },
      "outputs": [
        {
          "output_type": "stream",
          "name": "stdout",
          "text": [
            "Schema:\n",
            "root\n",
            " |-- id: integer (nullable = true)\n",
            " |-- age: integer (nullable = true)\n",
            " |-- salary: integer (nullable = true)\n",
            " |-- department: string (nullable = true)\n",
            "\n",
            "Top 5 High Earners:\n",
            "+---+---+------+-----------+\n",
            "| id|age|salary| department|\n",
            "+---+---+------+-----------+\n",
            "|  1| 65|116867|      Sales|\n",
            "|  2| 55|138445|      Sales|\n",
            "|  4| 53|107430|Engineering|\n",
            "|  7| 26|110474|      Sales|\n",
            "|  8| 23|139694|      Sales|\n",
            "+---+---+------+-----------+\n",
            "only showing top 5 rows\n",
            "\n",
            "Avg Salary by Dept:\n",
            "+-----------+-----------------+\n",
            "| department|       avg_salary|\n",
            "+-----------+-----------------+\n",
            "|      Sales|90120.84908089264|\n",
            "|Engineering|89954.20254448235|\n",
            "|         HR|90069.48091322597|\n",
            "|  Marketing|90120.86017057637|\n",
            "+-----------+-----------------+\n",
            "\n",
            "Employee Count by Age Group:\n",
            "+---------+------+\n",
            "|age_group| count|\n",
            "+---------+------+\n",
            "|       10| 38364|\n",
            "|       20|192810|\n",
            "|       30|191908|\n",
            "|       40|192229|\n",
            "|       50|192641|\n",
            "|       60|192048|\n",
            "+---------+------+\n",
            "\n"
          ]
        },
        {
          "output_type": "execute_result",
          "data": {
            "text/plain": [
              "/content/avg_salary_output.zip"
            ],
            "text/html": [
              "<a href='avg_salary_output.zip' target='_blank'>avg_salary_output.zip</a><br>"
            ]
          },
          "metadata": {},
          "execution_count": 1
        }
      ],
      "source": [
        "# Install PySpark\n",
        "!pip install -q pyspark\n",
        "\n",
        "from pyspark.sql import SparkSession\n",
        "from pyspark.sql.functions import col, avg, count\n",
        "import pandas as pd, numpy as np, shutil\n",
        "from IPython.display import FileLink\n",
        "\n",
        "# Spark session\n",
        "spark = SparkSession.builder.appName(\"BigDataProcessing\").getOrCreate()\n",
        "\n",
        "# Generate and save synthetic CSV\n",
        "pd.DataFrame({\n",
        "    \"id\": np.arange(1, 1_000_001),\n",
        "    \"age\": np.random.randint(18, 70, 1_000_000),\n",
        "    \"salary\": np.random.randint(30000, 150000, 1_000_000),\n",
        "    \"department\": np.random.choice([\"HR\", \"Engineering\", \"Sales\", \"Marketing\"], 1_000_000)\n",
        "}).to_csv(\"synthetic_data.csv\", index=False)\n",
        "\n",
        "# Load data\n",
        "data = spark.read.csv(\"synthetic_data.csv\", header=True, inferSchema=True)\n",
        "\n",
        "# Print schema\n",
        "print(\"Schema:\")\n",
        "data.printSchema()\n",
        "\n",
        "# Processing\n",
        "high_earners = data.filter(col(\"salary\") > 100000)\n",
        "avg_salary = data.groupBy(\"department\").agg(avg(\"salary\").alias(\"avg_salary\"))\n",
        "age_group_count = data.withColumn(\"age_group\", (col(\"age\") / 10).cast(\"int\") * 10) \\\n",
        "                      .groupBy(\"age_group\").agg(count(\"*\").alias(\"count\"))\n",
        "\n",
        "# Show insights\n",
        "print(\"Top 5 High Earners:\"); high_earners.show(5)\n",
        "print(\"Avg Salary by Dept:\"); avg_salary.show()\n",
        "print(\"Employee Count by Age Group:\"); age_group_count.orderBy(\"age_group\").show()\n",
        "\n",
        "# Save and zip output\n",
        "avg_salary.coalesce(1).write.option(\"header\", \"true\").csv(\"avg_salary_output\", mode=\"overwrite\")\n",
        "shutil.make_archive('avg_salary_output', 'zip', 'avg_salary_output')\n",
        "\n",
        "# Download link\n",
        "FileLink(\"avg_salary_output.zip\")\n"
      ]
    }
  ]
}